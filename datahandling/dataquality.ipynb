{
 "cells": [
  {
   "cell_type": "code",
   "execution_count": 30,
   "metadata": {},
   "outputs": [
    {
     "ename": "KeyboardInterrupt",
     "evalue": "",
     "output_type": "error",
     "traceback": [
      "\u001b[0;31m---------------------------------------------------------------------------\u001b[0m",
      "\u001b[0;31mKeyboardInterrupt\u001b[0m                         Traceback (most recent call last)",
      "\u001b[1;32m/home/gdapoian/Code/Analysis&ML/Mood_DL_abstractpaper/datahandling/dataquality.ipynb Cell 1\u001b[0m in \u001b[0;36m<cell line: 10>\u001b[0;34m()\u001b[0m\n\u001b[1;32m      <a href='vscode-notebook-cell:/home/gdapoian/Code/Analysis%26ML/Mood_DL_abstractpaper/datahandling/dataquality.ipynb#W0sZmlsZQ%3D%3D?line=7'>8</a>\u001b[0m \u001b[39m# try with data on a pickle file, advantage load once\u001b[39;00m\n\u001b[1;32m      <a href='vscode-notebook-cell:/home/gdapoian/Code/Analysis%26ML/Mood_DL_abstractpaper/datahandling/dataquality.ipynb#W0sZmlsZQ%3D%3D?line=8'>9</a>\u001b[0m \u001b[39m# open the pickle file in read mode\u001b[39;00m\n\u001b[1;32m     <a href='vscode-notebook-cell:/home/gdapoian/Code/Analysis%26ML/Mood_DL_abstractpaper/datahandling/dataquality.ipynb#W0sZmlsZQ%3D%3D?line=9'>10</a>\u001b[0m \u001b[39mwith\u001b[39;00m \u001b[39mopen\u001b[39m(os\u001b[39m.\u001b[39mpath\u001b[39m.\u001b[39mjoin(\u001b[39mdir\u001b[39m,\u001b[39m\"\u001b[39m\u001b[39mlongecg_longacc_and_imq.pickle\u001b[39m\u001b[39m\"\u001b[39m), \u001b[39m\"\u001b[39m\u001b[39mrb\u001b[39m\u001b[39m\"\u001b[39m) \u001b[39mas\u001b[39;00m f:\n\u001b[1;32m     <a href='vscode-notebook-cell:/home/gdapoian/Code/Analysis%26ML/Mood_DL_abstractpaper/datahandling/dataquality.ipynb#W0sZmlsZQ%3D%3D?line=10'>11</a>\u001b[0m     \u001b[39m# load the data from the pickle file using pickle.load()\u001b[39;00m\n\u001b[0;32m---> <a href='vscode-notebook-cell:/home/gdapoian/Code/Analysis%26ML/Mood_DL_abstractpaper/datahandling/dataquality.ipynb#W0sZmlsZQ%3D%3D?line=11'>12</a>\u001b[0m     data \u001b[39m=\u001b[39m pickle\u001b[39m.\u001b[39;49mload(f)\n",
      "File \u001b[0;32m~/.local/lib/python3.10/site-packages/pandas/core/indexes/base.py:234\u001b[0m, in \u001b[0;36m_new_Index\u001b[0;34m(cls, d)\u001b[0m\n\u001b[1;32m    230\u001b[0m     \u001b[39mif\u001b[39;00m kwargs:\n\u001b[1;32m    231\u001b[0m         \u001b[39mraise\u001b[39;00m \u001b[39mTypeError\u001b[39;00m(\u001b[39mf\u001b[39m\u001b[39m\"\u001b[39m\u001b[39mUnexpected keyword arguments \u001b[39m\u001b[39m{\u001b[39;00m\u001b[39mrepr\u001b[39m(\u001b[39mset\u001b[39m(kwargs))\u001b[39m}\u001b[39;00m\u001b[39m\"\u001b[39m)\n\u001b[0;32m--> 234\u001b[0m \u001b[39mdef\u001b[39;00m \u001b[39m_new_Index\u001b[39m(\u001b[39mcls\u001b[39m, d):\n\u001b[1;32m    235\u001b[0m     \u001b[39m\"\"\"\u001b[39;00m\n\u001b[1;32m    236\u001b[0m \u001b[39m    This is called upon unpickling, rather than the default which doesn't\u001b[39;00m\n\u001b[1;32m    237\u001b[0m \u001b[39m    have arguments and breaks __new__.\u001b[39;00m\n\u001b[1;32m    238\u001b[0m \u001b[39m    \"\"\"\u001b[39;00m\n\u001b[1;32m    239\u001b[0m     \u001b[39m# required for backward compat, because PI can't be instantiated with\u001b[39;00m\n\u001b[1;32m    240\u001b[0m     \u001b[39m# ordinals through __new__ GH #13277\u001b[39;00m\n",
      "\u001b[0;31mKeyboardInterrupt\u001b[0m: "
     ]
    }
   ],
   "source": [
    "import os\n",
    "import pickle\n",
    "import pandas as pd\n",
    "import matplotlib.pyplot as plt\n",
    "\n",
    "\n",
    "dir = \"/home/gdapoian/Ambizione/01_Confidential_Data/MoodDetection/\"\n",
    "# try with data on a pickle file, advantage load once\n",
    "# open the pickle file in read mode\n",
    "with open(os.path.join(dir,\"longecg_longacc_and_imq.pickle\"), \"rb\") as f:\n",
    "    # load the data from the pickle file using pickle.load()\n",
    "    data = pickle.load(f)\n"
   ]
  },
  {
   "cell_type": "code",
   "execution_count": null,
   "metadata": {},
   "outputs": [],
   "source": [
    "from scipy.signal import medfilt\n",
    "\n",
    "def fix_baseline_wander(data, fs=128):\n",
    "    \"\"\"BaselineWanderRemovalMedian.m from ecg-kit.  Given a list of amplitude values\n",
    "    (data) and sample rate (sr), it applies two median filters to data to\n",
    "    compute the baseline.  The returned result is the original data minus this\n",
    "    computed baseline.\n",
    "    \"\"\"\n",
    "    #source : https://pypi.python.org/pypi/BaselineWanderRemoval/2017.10.25\n",
    "\n",
    "    winsize = int(round(0.2*fs))\n",
    "    # delayBLR = round((winsize-1)/2)\n",
    "    if winsize % 2 == 0:\n",
    "        winsize += 1\n",
    "    baseline_estimate = medfilt(data, kernel_size=winsize)\n",
    "    winsize = int(round(0.6*fs))\n",
    "    # delayBLR = delayBLR + round((winsize-1)/2)\n",
    "    if winsize % 2 == 0:\n",
    "        winsize += 1\n",
    "    baseline_estimate = medfilt(baseline_estimate, kernel_size=winsize)\n",
    "    ecg_blr = data - baseline_estimate\n",
    "    return ecg_blr\n",
    "\n"
   ]
  },
  {
   "cell_type": "code",
   "execution_count": null,
   "metadata": {},
   "outputs": [
    {
     "name": "stderr",
     "output_type": "stream",
     "text": [
      "1it [00:09,  9.10s/it]\n"
     ]
    },
    {
     "ename": "KeyboardInterrupt",
     "evalue": "",
     "output_type": "error",
     "traceback": [
      "\u001b[0;31m---------------------------------------------------------------------------\u001b[0m",
      "\u001b[0;31mKeyboardInterrupt\u001b[0m                         Traceback (most recent call last)",
      "\u001b[1;32m/home/gdapoian/Code/Analysis&ML/Mood_DL_abstractpaper/datahandling/dataquality.ipynb Cell 3\u001b[0m in \u001b[0;36m<cell line: 2>\u001b[0;34m()\u001b[0m\n\u001b[1;32m      <a href='vscode-notebook-cell:/home/gdapoian/Code/Analysis%26ML/Mood_DL_abstractpaper/datahandling/dataquality.ipynb#W2sZmlsZQ%3D%3D?line=0'>1</a>\u001b[0m \u001b[39mimport\u001b[39;00m \u001b[39mtqdm\u001b[39;00m\n\u001b[1;32m      <a href='vscode-notebook-cell:/home/gdapoian/Code/Analysis%26ML/Mood_DL_abstractpaper/datahandling/dataquality.ipynb#W2sZmlsZQ%3D%3D?line=1'>2</a>\u001b[0m \u001b[39mfor\u001b[39;00m en,ecg \u001b[39min\u001b[39;00m tqdm\u001b[39m.\u001b[39mtqdm(\u001b[39menumerate\u001b[39m(data[\u001b[39m\"\u001b[39m\u001b[39mx\u001b[39m\u001b[39m\"\u001b[39m])):\n\u001b[0;32m----> <a href='vscode-notebook-cell:/home/gdapoian/Code/Analysis%26ML/Mood_DL_abstractpaper/datahandling/dataquality.ipynb#W2sZmlsZQ%3D%3D?line=2'>3</a>\u001b[0m     data[\u001b[39m\"\u001b[39m\u001b[39mx\u001b[39m\u001b[39m\"\u001b[39m][en]\u001b[39m=\u001b[39m fix_baseline_wander(ecg[\u001b[39m-\u001b[39;49m\u001b[39m1843200\u001b[39;49m:])\n",
      "\u001b[1;32m/home/gdapoian/Code/Analysis&ML/Mood_DL_abstractpaper/datahandling/dataquality.ipynb Cell 3\u001b[0m in \u001b[0;36mfix_baseline_wander\u001b[0;34m(data, fs)\u001b[0m\n\u001b[1;32m     <a href='vscode-notebook-cell:/home/gdapoian/Code/Analysis%26ML/Mood_DL_abstractpaper/datahandling/dataquality.ipynb#W2sZmlsZQ%3D%3D?line=17'>18</a>\u001b[0m \u001b[39mif\u001b[39;00m winsize \u001b[39m%\u001b[39m \u001b[39m2\u001b[39m \u001b[39m==\u001b[39m \u001b[39m0\u001b[39m:\n\u001b[1;32m     <a href='vscode-notebook-cell:/home/gdapoian/Code/Analysis%26ML/Mood_DL_abstractpaper/datahandling/dataquality.ipynb#W2sZmlsZQ%3D%3D?line=18'>19</a>\u001b[0m     winsize \u001b[39m+\u001b[39m\u001b[39m=\u001b[39m \u001b[39m1\u001b[39m\n\u001b[0;32m---> <a href='vscode-notebook-cell:/home/gdapoian/Code/Analysis%26ML/Mood_DL_abstractpaper/datahandling/dataquality.ipynb#W2sZmlsZQ%3D%3D?line=19'>20</a>\u001b[0m baseline_estimate \u001b[39m=\u001b[39m medfilt(baseline_estimate, kernel_size\u001b[39m=\u001b[39;49mwinsize)\n\u001b[1;32m     <a href='vscode-notebook-cell:/home/gdapoian/Code/Analysis%26ML/Mood_DL_abstractpaper/datahandling/dataquality.ipynb#W2sZmlsZQ%3D%3D?line=20'>21</a>\u001b[0m ecg_blr \u001b[39m=\u001b[39m data \u001b[39m-\u001b[39m baseline_estimate\n\u001b[1;32m     <a href='vscode-notebook-cell:/home/gdapoian/Code/Analysis%26ML/Mood_DL_abstractpaper/datahandling/dataquality.ipynb#W2sZmlsZQ%3D%3D?line=21'>22</a>\u001b[0m \u001b[39mreturn\u001b[39;00m ecg_blr\n",
      "File \u001b[0;32m~/.local/lib/python3.10/site-packages/scipy/signal/_signaltools.py:1538\u001b[0m, in \u001b[0;36mmedfilt\u001b[0;34m(volume, kernel_size)\u001b[0m\n\u001b[1;32m   1536\u001b[0m numels \u001b[39m=\u001b[39m np\u001b[39m.\u001b[39mprod(kernel_size, axis\u001b[39m=\u001b[39m\u001b[39m0\u001b[39m)\n\u001b[1;32m   1537\u001b[0m order \u001b[39m=\u001b[39m numels \u001b[39m/\u001b[39m\u001b[39m/\u001b[39m \u001b[39m2\u001b[39m\n\u001b[0;32m-> 1538\u001b[0m \u001b[39mreturn\u001b[39;00m _sigtools\u001b[39m.\u001b[39;49m_order_filterND(volume, domain, order)\n",
      "\u001b[0;31mKeyboardInterrupt\u001b[0m: "
     ]
    }
   ],
   "source": [
    "import tqdm\n",
    "for en,ecg in tqdm.tqdm(enumerate(data[\"x\"])):\n",
    "    data[\"x\"][en]= fix_baseline_wander(ecg[-1843200:])"
   ]
  },
  {
   "cell_type": "code",
   "execution_count": 31,
   "metadata": {},
   "outputs": [
    {
     "ename": "OSError",
     "evalue": "[Errno 28] No space left on device",
     "output_type": "error",
     "traceback": [
      "\u001b[0;31m---------------------------------------------------------------------------\u001b[0m",
      "\u001b[0;31mOSError\u001b[0m                                   Traceback (most recent call last)",
      "\u001b[1;32m/home/gdapoian/Code/Analysis&ML/Mood_DL_abstractpaper/datahandling/dataquality.ipynb Cell 4\u001b[0m in \u001b[0;36m<cell line: 3>\u001b[0;34m()\u001b[0m\n\u001b[1;32m      <a href='vscode-notebook-cell:/home/gdapoian/Code/Analysis%26ML/Mood_DL_abstractpaper/datahandling/dataquality.ipynb#W3sZmlsZQ%3D%3D?line=0'>1</a>\u001b[0m \u001b[39mimport\u001b[39;00m \u001b[39mpickle\u001b[39;00m\n\u001b[1;32m      <a href='vscode-notebook-cell:/home/gdapoian/Code/Analysis%26ML/Mood_DL_abstractpaper/datahandling/dataquality.ipynb#W3sZmlsZQ%3D%3D?line=1'>2</a>\u001b[0m \u001b[39mfrom\u001b[39;00m  \u001b[39mos\u001b[39;00m\u001b[39m.\u001b[39;00m\u001b[39mpath\u001b[39;00m \u001b[39mimport\u001b[39;00m join \u001b[39mas\u001b[39;00m pjoin\n\u001b[0;32m----> <a href='vscode-notebook-cell:/home/gdapoian/Code/Analysis%26ML/Mood_DL_abstractpaper/datahandling/dataquality.ipynb#W3sZmlsZQ%3D%3D?line=2'>3</a>\u001b[0m pickle\u001b[39m.\u001b[39;49mdump(data, \u001b[39mopen\u001b[39;49m(pjoin(\u001b[39mdir\u001b[39;49m,\u001b[39m\"\u001b[39;49m\u001b[39m4hecgBaslineRemoval_longacc_and_imq.pickle\u001b[39;49m\u001b[39m\"\u001b[39;49m), \u001b[39m\"\u001b[39;49m\u001b[39mwb\u001b[39;49m\u001b[39m\"\u001b[39;49m))\n",
      "\u001b[0;31mOSError\u001b[0m: [Errno 28] No space left on device"
     ]
    }
   ],
   "source": [
    "import pickle\n",
    "from  os.path import join as pjoin\n",
    "pickle.dump(data, open(pjoin(dir,\"4hecgBaslineRemoval_longacc_and_imq.pickle\"), \"wb\"))"
   ]
  },
  {
   "cell_type": "code",
   "execution_count": null,
   "metadata": {},
   "outputs": [
    {
     "data": {
      "text/plain": [
       "(0.3333333333333333, 0.36)"
      ]
     },
     "execution_count": 66,
     "metadata": {},
     "output_type": "execute_result"
    }
   ],
   "source": [
    "import numpy as np\n",
    "\n",
    "def balance_accuracy(confusion_matrix):\n",
    "    # Compute the number of classes\n",
    "    num_classes = confusion_matrix.shape[0]\n",
    "    # Compute the sum of true positives and false negatives for each class\n",
    "    tp_fn = np.sum(confusion_matrix, axis=1)\n",
    "    # Compute the true positive rate (sensitivity) for each class\n",
    "    tpr = np.diag(confusion_matrix) / tp_fn\n",
    "    # Compute the overall balance accuracy\n",
    "    balance_acc = np.sum(tpr) / num_classes\n",
    "    return balance_acc\n",
    "\n",
    "\n",
    "def accuracy(confusion_matrix):\n",
    "    # Compute the total number of predictions\n",
    "    total_predictions = np.sum(confusion_matrix)\n",
    "    # Compute the number of correct predictions\n",
    "    correct_predictions = np.trace(confusion_matrix)\n",
    "    # Compute the accuracy\n",
    "    acc = correct_predictions / total_predictions\n",
    "    return acc\n",
    "\n",
    "\n",
    "cm = np.array([[18, 0, 0],[16,0,0],[16,0,0]])\n",
    "balance_accuracy(cm), accuracy(cm)"
   ]
  },
  {
   "cell_type": "code",
   "execution_count": 33,
   "metadata": {},
   "outputs": [],
   "source": [
    "df = pd.DataFrame(data)"
   ]
  },
  {
   "cell_type": "code",
   "execution_count": 36,
   "metadata": {},
   "outputs": [
    {
     "data": {
      "text/plain": [
       "127    [4, 1.0, 2, 6]\n",
       "128    [4, 2.0, 2, 4]\n",
       "129    [2, 3.0, 4, 3]\n",
       "130    [5, 0.0, 1, 6]\n",
       "131    [2, 2.0, 3, 5]\n",
       "132    [4, 3.0, 2, 4]\n",
       "133    [5, 1.0, 2, 5]\n",
       "134    [6, 0.0, 1, 5]\n",
       "135    [5, 2.0, 2, 4]\n",
       "136    [3, 2.0, 3, 5]\n",
       "137    [3, 3.0, 3, 4]\n",
       "138    [3, 3.0, 3, 3]\n",
       "139    [5, 0.0, 1, 6]\n",
       "140    [2, 2.0, 3, 5]\n",
       "141    [2, 3.0, 3, 4]\n",
       "142    [3, 2.0, 3, 5]\n",
       "143    [4, 3.0, 2, 3]\n",
       "144    [4, 2.0, 3, 5]\n",
       "145    [5, 3.0, 1, 5]\n",
       "146    [5, 2.0, 2, 5]\n",
       "147    [5, 2.0, 1, 5]\n",
       "148    [4, 2.0, 3, 5]\n",
       "149    [5, 1.0, 1, 5]\n",
       "150    [2, 1.0, 4, 6]\n",
       "151    [2, 2.0, 3, 5]\n",
       "152    [5, 2.0, 2, 4]\n",
       "153    [5, 3.0, 2, 4]\n",
       "154    [4, 3.0, 3, 3]\n",
       "155    [6, 4.0, 2, 2]\n",
       "156    [2, 3.0, 4, 5]\n",
       "157    [2, 3.0, 5, 4]\n",
       "158    [2, 1.0, 6, 5]\n",
       "159    [0, 2.0, 6, 4]\n",
       "160    [2, 1.0, 2, 6]\n",
       "161    [1, 2.0, 5, 4]\n",
       "162    [3, 4.0, 3, 2]\n",
       "163    [1, 2.0, 5, 5]\n",
       "164    [4, 2.0, 3, 4]\n",
       "165    [2, 2.0, 4, 5]\n",
       "166    [3, 1.0, 2, 5]\n",
       "167    [1, 3.0, 5, 4]\n",
       "168    [2, 2.0, 5, 5]\n",
       "169    [1, 1.0, 5, 4]\n",
       "170    [1, 2.0, 5, 4]\n",
       "171    [0, 2.0, 5, 5]\n",
       "172    [3, 3.0, 3, 3]\n",
       "173    [2, 2.0, 4, 3]\n",
       "174    [1, 1.0, 5, 6]\n",
       "175    [2, 3.0, 3, 5]\n",
       "176    [2, 2.0, 3, 4]\n",
       "Name: y, dtype: object"
      ]
     },
     "execution_count": 36,
     "metadata": {},
     "output_type": "execute_result"
    }
   ],
   "source": [
    "import matplotlib.pyplot as plt\n",
    "import seaborn as sns\n",
    "\n",
    "df.loc[df.uid==\"S008\", \"y\"]"
   ]
  },
  {
   "cell_type": "code",
   "execution_count": 38,
   "metadata": {},
   "outputs": [
    {
     "data": {
      "text/plain": [
       "array([list([4, 1.0, 2, 6]), list([4, 2.0, 2, 4]), list([2, 3.0, 4, 3]),\n",
       "       list([5, 0.0, 1, 6]), list([2, 2.0, 3, 5]), list([4, 3.0, 2, 4]),\n",
       "       list([5, 1.0, 2, 5]), list([6, 0.0, 1, 5]), list([5, 2.0, 2, 4]),\n",
       "       list([3, 2.0, 3, 5]), list([3, 3.0, 3, 4]), list([3, 3.0, 3, 3]),\n",
       "       list([5, 0.0, 1, 6]), list([2, 2.0, 3, 5]), list([2, 3.0, 3, 4]),\n",
       "       list([3, 2.0, 3, 5]), list([4, 3.0, 2, 3]), list([4, 2.0, 3, 5]),\n",
       "       list([5, 3.0, 1, 5]), list([5, 2.0, 2, 5]), list([5, 2.0, 1, 5]),\n",
       "       list([4, 2.0, 3, 5]), list([5, 1.0, 1, 5]), list([2, 1.0, 4, 6]),\n",
       "       list([2, 2.0, 3, 5]), list([5, 2.0, 2, 4]), list([5, 3.0, 2, 4]),\n",
       "       list([4, 3.0, 3, 3]), list([6, 4.0, 2, 2]), list([2, 3.0, 4, 5]),\n",
       "       list([2, 3.0, 5, 4]), list([2, 1.0, 6, 5]), list([0, 2.0, 6, 4]),\n",
       "       list([2, 1.0, 2, 6]), list([1, 2.0, 5, 4]), list([3, 4.0, 3, 2]),\n",
       "       list([1, 2.0, 5, 5]), list([4, 2.0, 3, 4]), list([2, 2.0, 4, 5]),\n",
       "       list([3, 1.0, 2, 5]), list([1, 3.0, 5, 4]), list([2, 2.0, 5, 5]),\n",
       "       list([1, 1.0, 5, 4]), list([1, 2.0, 5, 4]), list([0, 2.0, 5, 5]),\n",
       "       list([3, 3.0, 3, 3]), list([2, 2.0, 4, 3]), list([1, 1.0, 5, 6]),\n",
       "       list([2, 3.0, 3, 5]), list([2, 2.0, 3, 4])], dtype=object)"
      ]
     },
     "execution_count": 38,
     "metadata": {},
     "output_type": "execute_result"
    }
   ],
   "source": [
    "import numpy as np\n",
    "a = np.asarray(df.loc[df.uid==\"S008\", \"y\"])\n",
    "a.flatten()"
   ]
  },
  {
   "cell_type": "code",
   "execution_count": null,
   "metadata": {},
   "outputs": [
    {
     "data": {
      "text/plain": [
       "array([1., 2., 3., 0., 2., 3., 1., 0., 2., 2., 3., 3., 0., 2., 3., 2., 3.,\n",
       "       2., 3., 2.])"
      ]
     },
     "execution_count": 19,
     "metadata": {},
     "output_type": "execute_result"
    }
   ],
   "source": [
    "a[:,1]"
   ]
  },
  {
   "cell_type": "code",
   "execution_count": null,
   "metadata": {},
   "outputs": [
    {
     "data": {
      "text/plain": [
       "array([0., 2., 3., 0., 1., 2., 1., 1., 2., 1., 2., 3., 0., 1., 2., 1., 3.,\n",
       "       1., 1., 1.])"
      ]
     },
     "execution_count": 18,
     "metadata": {},
     "output_type": "execute_result"
    }
   ],
   "source": [
    "np.abs(a[:,3]-6)"
   ]
  },
  {
   "cell_type": "code",
   "execution_count": null,
   "metadata": {},
   "outputs": [
    {
     "data": {
      "text/plain": [
       "(array([4., 0., 4., 0., 0., 5., 0., 6., 0., 1.]),\n",
       " array([2. , 2.4, 2.8, 3.2, 3.6, 4. , 4.4, 4.8, 5.2, 5.6, 6. ]),\n",
       " <BarContainer object of 10 artists>)"
      ]
     },
     "execution_count": 25,
     "metadata": {},
     "output_type": "execute_result"
    },
    {
     "data": {
      "image/png": "[encoded data removed]",
      "text/plain": [
       "<Figure size 432x288 with 1 Axes>"
      ]
     },
     "metadata": {},
     "output_type": "display_data"
    }
   ],
   "source": [
    "import matplotlib.pyplot as plt\n",
    "import seaborn as sns\n",
    "sns.set_theme()\n",
    "\n",
    "plt.hist(a[:,0])"
   ]
  },
  {
   "cell_type": "code",
   "execution_count": 40,
   "metadata": {},
   "outputs": [
    {
     "data": {
      "text/plain": [
       "460800"
      ]
     },
     "execution_count": 40,
     "metadata": {},
     "output_type": "execute_result"
    }
   ],
   "source": [
    "128*1*3600"
   ]
  },
  {
   "cell_type": "code",
   "execution_count": null,
   "metadata": {},
   "outputs": [],
   "source": []
  }
 ],
 "metadata": {
  "kernelspec": {
   "display_name": "Python 3",
   "language": "python",
   "name": "python3"
  },
  "language_info": {
   "codemirror_mode": {
    "name": "ipython",
    "version": 3
   },
   "file_extension": ".py",
   "mimetype": "text/x-python",
   "name": "python",
   "nbconvert_exporter": "python",
   "pygments_lexer": "ipython3",
   "version": "3.10.6"
  },
  "orig_nbformat": 4,
  "vscode": {
   "interpreter": {
    "hash": "916dbcbb3f70747c44a77c7bcd40155683ae19c65e1c03b4aa3499c5328201f1"
   }
  }
 },
 "nbformat": 4,
 "nbformat_minor": 2
}
