{
 "cells": [
  {
   "cell_type": "code",
   "execution_count": 2,
   "metadata": {},
   "outputs": [
    {
     "name": "stdout",
     "output_type": "stream",
     "text": [
      "Dataset includes 1144 data points\n",
      "from 26 unique participants\n",
      "of which 16 have a depression diagnosis\n"
     ]
    }
   ],
   "source": [
    "import numpy as np\n",
    "import os\n",
    "import pandas as pd\n",
    "\n",
    "data_dir = \"/Users/crisgallego/Documents/phd/00_Data/02_SMART_STUDY\"\n",
    "\n",
    "# Specify the path to the pickle file you want to read\n",
    "file_path = \"ACC_RR_timeseries_24hour_clean_25percent_291123.pkl\"  # Replace with the actual file path\n",
    "\n",
    "data = pd.read_pickle(os.path.join(data_dir,file_path))\n",
    "\n",
    "data_all = pd.DataFrame(data).transpose()\n",
    "data_all = data_all.reset_index()\n",
    "\n",
    "print(\"Dataset includes \" + str(len(data_all)) + \" data points\")\n",
    "print(\"from \" + str(len(data_all.Participant_ID.unique())) + \" unique participants\")\n",
    "print(\"of which \" + str(len(data_all[data_all.depression==1].Participant_ID.unique())) + \" have a depression diagnosis\")"
   ]
  },
  {
   "cell_type": "markdown",
   "metadata": {},
   "source": [
    "## Count of data entries for each participant\n",
    "\n",
    "This section generates a bar plot to show the count of data entries for each participant. The bars are color-coded based on the 'depression' status, while a horizontal line represents the median count of entries.\n"
   ]
  },
  {
   "cell_type": "code",
   "execution_count": null,
   "metadata": {},
   "outputs": [],
   "source": [
    "# visualize instogram with the number of labels for each participant\n",
    "import plotly.express as px\n",
    "\n",
    "# Grouping the DataFrame by 'Participant_ID' and counting the occurrences\n",
    "grouped_data = data_all.groupby('Participant_ID').size().reset_index(name='Count')\n",
    "\n",
    "# Merge Depression values with grouped data\n",
    "depression_values = data_all.groupby('Participant_ID')['depression'].first().reset_index()\n",
    "grouped_data = grouped_data.merge(depression_values, on='Participant_ID')\n",
    "\n",
    "# Calculate the average count of entries\n",
    "median_count = grouped_data['Count'].median()\n",
    "\n",
    "# Plotting using Plotly\n",
    "# Plotting using Plotly with specified colors\n",
    "fig = px.bar(grouped_data, x='Participant_ID', y='Count', color='depression', \n",
    "             title='Data Entry Count per Participant (Color by Depression), Total Entries: ' + str(len(data_all)),\n",
    "             labels={'color': 'Depression (1/0)'},\n",
    "             color_discrete_map={1: 'purple', 0: 'green'})  # Assign colors for 1 (Depressed) and 0 (Not depressed)\n",
    "fig.add_hline(y=median_count, line_dash=\"dot\", annotation_text=f'Median: {median_count:.2f}', annotation_position='bottom right')\n",
    "fig.update_layout(xaxis_title='Participant ID', yaxis_title='Data Entry Count')\n",
    "\n",
    "# Display the plot\n",
    "fig.show()"
   ]
  },
  {
   "cell_type": "markdown",
   "metadata": {},
   "source": [
    "## Plot the average HR for each participant"
   ]
  },
  {
   "cell_type": "code",
   "execution_count": null,
   "metadata": {},
   "outputs": [],
   "source": [
    "import plotly.graph_objects as go\n",
    "\n",
    "fig = go.Figure()\n",
    "\n",
    "def calculate_mean_curve(data):\n",
    "    filtered_data = data[data.apply(len) == 288]\n",
    "    return np.nanmean(np.vstack(filtered_data), axis=0)\n",
    "\n",
    "def moving_average(data, window_size):\n",
    "    cumsum = np.cumsum(data)\n",
    "    return (cumsum[window_size:] - cumsum[:-window_size]) / window_size\n",
    "\n",
    "unique_participants = data_all['Participant_ID'].unique()\n",
    "\n",
    "for participant_id in unique_participants:\n",
    "    participant_data = data_all[data_all['Participant_ID'] == participant_id]\n",
    "    mean_curve = calculate_mean_curve(participant_data['step_count'])\n",
    "    depression_status = participant_data['depression'].iloc[0]  # Assuming depression status is consistent for each participant\n",
    "    \n",
    "    color = 'purple' if depression_status == 1 else 'green'\n",
    "    \n",
    "    smoothed_curve = moving_average(mean_curve, 12)  # Applying moving average with window size 5\n",
    "    \n",
    "    fig.add_trace(go.Scatter(y=smoothed_curve, mode='lines', name=f'Participant {participant_id}', line=dict(color=color)))\n",
    "\n",
    "fig.update_layout(\n",
    "    title='Smoothed Average Heart Rate Curves for Participants by Depression Status',\n",
    "    xaxis_title='Time',\n",
    "    yaxis_title='Heart Rate'\n",
    ")\n",
    "\n",
    "fig.show()"
   ]
  },
  {
   "cell_type": "markdown",
   "metadata": {},
   "source": [
    "## Plot valence level distribution "
   ]
  },
  {
   "cell_type": "markdown",
   "metadata": {},
   "source": [
    "### Depressed vs Healthy"
   ]
  },
  {
   "cell_type": "code",
   "execution_count": null,
   "metadata": {},
   "outputs": [],
   "source": [
    "# Create histogram plots using Plotly Express with 'barmode' set to 'group'\n",
    "fig = px.histogram(data_all, x=\"valence_level\", color=\"depression\", barmode='stack',\n",
    "                   title=\"Distribution of Valence Level by Depression Status\",\n",
    "                   labels={'color': 'Depression (1/0)'},\n",
    "                   color_discrete_map={1: 'purple', 0: 'green'},\n",
    "                   nbins=12)\n",
    "\n",
    "fig.update_layout(bargap=0.1)  # To adjust the gap between bars\n",
    "\n",
    "fig.show()\n",
    "\n",
    "from plotly.subplots import make_subplots\n",
    "\n",
    "# Get unique participants\n",
    "unique_participants = data_all['Participant_ID'].unique()\n",
    "\n",
    "# Create a subplot grid\n",
    "num_rows = 6  # Number of rows in the grid\n",
    "num_cols = 4  # Number of columns in the grid\n",
    "\n",
    "fig = make_subplots(rows=num_rows, cols=num_cols,subplot_titles=unique_participants)\n",
    "\n",
    "row, col = 1, 1  # Initialize starting position\n",
    "\n",
    "for participant_id in unique_participants:\n",
    "    # Filter data for the participant\n",
    "    participant_data = data_all[data_all['Participant_ID'] == participant_id]\n",
    "\n",
    "    # Set the color based on depression status\n",
    "    color = 'purple' if participant_data['depression'].iloc[0] == 1 else 'green'\n",
    "\n",
    "    # Create a histogram for valence level with color based on depression status\n",
    "    fig.add_trace(go.Histogram(x=participant_data['valence_level'], name=participant_id, marker_color=color), row=row, col=col)\n",
    "\n",
    "    # Update position in the subplot grid\n",
    "    col += 1\n",
    "    if col > num_cols:\n",
    "        col = 1\n",
    "        row += 1\n",
    "\n",
    "# Update layout\n",
    "fig.update_layout(height=900, width=1200, title='Valence Level Histograms for Each Participant')\n",
    "fig.update_xaxes(title_text='Valence Level')\n",
    "fig.update_yaxes(title_text='Frequency')\n",
    "\n",
    "fig.show()"
   ]
  },
  {
   "cell_type": "code",
   "execution_count": 9,
   "metadata": {},
   "outputs": [
    {
     "data": {
      "text/html": [
       "<div>\n",
       "<style scoped>\n",
       "    .dataframe tbody tr th:only-of-type {\n",
       "        vertical-align: middle;\n",
       "    }\n",
       "\n",
       "    .dataframe tbody tr th {\n",
       "        vertical-align: top;\n",
       "    }\n",
       "\n",
       "    .dataframe thead th {\n",
       "        text-align: right;\n",
       "    }\n",
       "</style>\n",
       "<table border=\"1\" class=\"dataframe\">\n",
       "  <thead>\n",
       "    <tr style=\"text-align: right;\">\n",
       "      <th></th>\n",
       "      <th>level_0</th>\n",
       "      <th>level_1</th>\n",
       "      <th>Participant_ID</th>\n",
       "      <th>Date</th>\n",
       "      <th>quest_type</th>\n",
       "      <th>imq1</th>\n",
       "      <th>imq2</th>\n",
       "      <th>imq3</th>\n",
       "      <th>imq4</th>\n",
       "      <th>imq5</th>\n",
       "      <th>imq6</th>\n",
       "      <th>kss</th>\n",
       "      <th>kss_class</th>\n",
       "      <th>arousal_class</th>\n",
       "      <th>valence_class</th>\n",
       "      <th>arousal_level</th>\n",
       "      <th>valence_level</th>\n",
       "      <th>mood1</th>\n",
       "      <th>mood2</th>\n",
       "      <th>depression</th>\n",
       "    </tr>\n",
       "  </thead>\n",
       "  <tbody>\n",
       "    <tr>\n",
       "      <th>0</th>\n",
       "      <td>SMART_021</td>\n",
       "      <td>0</td>\n",
       "      <td>SMART_021</td>\n",
       "      <td>1698902491.675</td>\n",
       "      <td>morning</td>\n",
       "      <td>4.0</td>\n",
       "      <td>3</td>\n",
       "      <td>5</td>\n",
       "      <td>3</td>\n",
       "      <td>5</td>\n",
       "      <td>4</td>\n",
       "      <td>2.0</td>\n",
       "      <td>0</td>\n",
       "      <td>1</td>\n",
       "      <td>1</td>\n",
       "      <td>3.5</td>\n",
       "      <td>4.0</td>\n",
       "      <td>58</td>\n",
       "      <td>61</td>\n",
       "      <td>1</td>\n",
       "    </tr>\n",
       "    <tr>\n",
       "      <th>1</th>\n",
       "      <td>SMART_021</td>\n",
       "      <td>1</td>\n",
       "      <td>SMART_021</td>\n",
       "      <td>1699176004.656</td>\n",
       "      <td>MORNING_INTERVENTION</td>\n",
       "      <td>3.0</td>\n",
       "      <td>4</td>\n",
       "      <td>6</td>\n",
       "      <td>3</td>\n",
       "      <td>6</td>\n",
       "      <td>5</td>\n",
       "      <td>2.0</td>\n",
       "      <td>0</td>\n",
       "      <td>1</td>\n",
       "      <td>2</td>\n",
       "      <td>3.0</td>\n",
       "      <td>5.0</td>\n",
       "      <td>70</td>\n",
       "      <td>66</td>\n",
       "      <td>1</td>\n",
       "    </tr>\n",
       "    <tr>\n",
       "      <th>2</th>\n",
       "      <td>SMART_021</td>\n",
       "      <td>2</td>\n",
       "      <td>SMART_021</td>\n",
       "      <td>1700645478.642</td>\n",
       "      <td>MORNING_INTERVENTION</td>\n",
       "      <td>2.0</td>\n",
       "      <td>3</td>\n",
       "      <td>4</td>\n",
       "      <td>2</td>\n",
       "      <td>2</td>\n",
       "      <td>4</td>\n",
       "      <td>3.0</td>\n",
       "      <td>0</td>\n",
       "      <td>0</td>\n",
       "      <td>1</td>\n",
       "      <td>2.0</td>\n",
       "      <td>2.5</td>\n",
       "      <td>63</td>\n",
       "      <td>57</td>\n",
       "      <td>1</td>\n",
       "    </tr>\n",
       "    <tr>\n",
       "      <th>3</th>\n",
       "      <td>SMART_021</td>\n",
       "      <td>3</td>\n",
       "      <td>SMART_021</td>\n",
       "      <td>1698475900.182</td>\n",
       "      <td>morning</td>\n",
       "      <td>5.0</td>\n",
       "      <td>3</td>\n",
       "      <td>6</td>\n",
       "      <td>3</td>\n",
       "      <td>5</td>\n",
       "      <td>6</td>\n",
       "      <td>2.0</td>\n",
       "      <td>0</td>\n",
       "      <td>1</td>\n",
       "      <td>1</td>\n",
       "      <td>4.0</td>\n",
       "      <td>4.0</td>\n",
       "      <td>82</td>\n",
       "      <td>60</td>\n",
       "      <td>1</td>\n",
       "    </tr>\n",
       "    <tr>\n",
       "      <th>4</th>\n",
       "      <td>SMART_021</td>\n",
       "      <td>4</td>\n",
       "      <td>SMART_021</td>\n",
       "      <td>1699425984.88</td>\n",
       "      <td>MORNING_INTERVENTION</td>\n",
       "      <td>3.0</td>\n",
       "      <td>4</td>\n",
       "      <td>5</td>\n",
       "      <td>3</td>\n",
       "      <td>5</td>\n",
       "      <td>4</td>\n",
       "      <td>2.0</td>\n",
       "      <td>0</td>\n",
       "      <td>1</td>\n",
       "      <td>2</td>\n",
       "      <td>3.0</td>\n",
       "      <td>4.5</td>\n",
       "      <td>60</td>\n",
       "      <td>67</td>\n",
       "      <td>1</td>\n",
       "    </tr>\n",
       "    <tr>\n",
       "      <th>...</th>\n",
       "      <td>...</td>\n",
       "      <td>...</td>\n",
       "      <td>...</td>\n",
       "      <td>...</td>\n",
       "      <td>...</td>\n",
       "      <td>...</td>\n",
       "      <td>...</td>\n",
       "      <td>...</td>\n",
       "      <td>...</td>\n",
       "      <td>...</td>\n",
       "      <td>...</td>\n",
       "      <td>...</td>\n",
       "      <td>...</td>\n",
       "      <td>...</td>\n",
       "      <td>...</td>\n",
       "      <td>...</td>\n",
       "      <td>...</td>\n",
       "      <td>...</td>\n",
       "      <td>...</td>\n",
       "      <td>...</td>\n",
       "    </tr>\n",
       "    <tr>\n",
       "      <th>1888</th>\n",
       "      <td>SMART_028</td>\n",
       "      <td>15</td>\n",
       "      <td>SMART_028</td>\n",
       "      <td>1700603452.929</td>\n",
       "      <td>evening</td>\n",
       "      <td>2.0</td>\n",
       "      <td>3</td>\n",
       "      <td>3</td>\n",
       "      <td>2</td>\n",
       "      <td>2</td>\n",
       "      <td>3</td>\n",
       "      <td>NaN</td>\n",
       "      <td>2</td>\n",
       "      <td>0</td>\n",
       "      <td>1</td>\n",
       "      <td>2.0</td>\n",
       "      <td>2.5</td>\n",
       "      <td>49</td>\n",
       "      <td>43</td>\n",
       "      <td>0</td>\n",
       "    </tr>\n",
       "    <tr>\n",
       "      <th>1889</th>\n",
       "      <td>SMART_028</td>\n",
       "      <td>16</td>\n",
       "      <td>SMART_028</td>\n",
       "      <td>1700859926.421</td>\n",
       "      <td>evening</td>\n",
       "      <td>3.0</td>\n",
       "      <td>3</td>\n",
       "      <td>3</td>\n",
       "      <td>2</td>\n",
       "      <td>3</td>\n",
       "      <td>3</td>\n",
       "      <td>NaN</td>\n",
       "      <td>2</td>\n",
       "      <td>1</td>\n",
       "      <td>1</td>\n",
       "      <td>2.5</td>\n",
       "      <td>3.0</td>\n",
       "      <td>46</td>\n",
       "      <td>49</td>\n",
       "      <td>0</td>\n",
       "    </tr>\n",
       "    <tr>\n",
       "      <th>1890</th>\n",
       "      <td>SMART_028</td>\n",
       "      <td>17</td>\n",
       "      <td>SMART_028</td>\n",
       "      <td>1701118174.071</td>\n",
       "      <td>evening</td>\n",
       "      <td>2.0</td>\n",
       "      <td>1</td>\n",
       "      <td>2</td>\n",
       "      <td>2</td>\n",
       "      <td>1</td>\n",
       "      <td>1</td>\n",
       "      <td>NaN</td>\n",
       "      <td>2</td>\n",
       "      <td>0</td>\n",
       "      <td>0</td>\n",
       "      <td>2.0</td>\n",
       "      <td>1.0</td>\n",
       "      <td>20</td>\n",
       "      <td>25</td>\n",
       "      <td>0</td>\n",
       "    </tr>\n",
       "    <tr>\n",
       "      <th>1891</th>\n",
       "      <td>SMART_028</td>\n",
       "      <td>18</td>\n",
       "      <td>SMART_028</td>\n",
       "      <td>1700769688.261</td>\n",
       "      <td>evening</td>\n",
       "      <td>2.0</td>\n",
       "      <td>4</td>\n",
       "      <td>4</td>\n",
       "      <td>2</td>\n",
       "      <td>3</td>\n",
       "      <td>4</td>\n",
       "      <td>NaN</td>\n",
       "      <td>2</td>\n",
       "      <td>0</td>\n",
       "      <td>1</td>\n",
       "      <td>2.0</td>\n",
       "      <td>3.5</td>\n",
       "      <td>63</td>\n",
       "      <td>61</td>\n",
       "      <td>0</td>\n",
       "    </tr>\n",
       "    <tr>\n",
       "      <th>1892</th>\n",
       "      <td>SMART_028</td>\n",
       "      <td>19</td>\n",
       "      <td>SMART_028</td>\n",
       "      <td>1701032287.874</td>\n",
       "      <td>evening</td>\n",
       "      <td>2.0</td>\n",
       "      <td>3</td>\n",
       "      <td>3</td>\n",
       "      <td>2</td>\n",
       "      <td>3</td>\n",
       "      <td>3</td>\n",
       "      <td>NaN</td>\n",
       "      <td>2</td>\n",
       "      <td>0</td>\n",
       "      <td>1</td>\n",
       "      <td>2.0</td>\n",
       "      <td>3.0</td>\n",
       "      <td>30</td>\n",
       "      <td>34</td>\n",
       "      <td>0</td>\n",
       "    </tr>\n",
       "  </tbody>\n",
       "</table>\n",
       "<p>1893 rows × 20 columns</p>\n",
       "</div>"
      ],
      "text/plain": [
       "        level_0  level_1 Participant_ID            Date            quest_type  \\\n",
       "0     SMART_021        0      SMART_021  1698902491.675               morning   \n",
       "1     SMART_021        1      SMART_021  1699176004.656  MORNING_INTERVENTION   \n",
       "2     SMART_021        2      SMART_021  1700645478.642  MORNING_INTERVENTION   \n",
       "3     SMART_021        3      SMART_021  1698475900.182               morning   \n",
       "4     SMART_021        4      SMART_021   1699425984.88  MORNING_INTERVENTION   \n",
       "...         ...      ...            ...             ...                   ...   \n",
       "1888  SMART_028       15      SMART_028  1700603452.929               evening   \n",
       "1889  SMART_028       16      SMART_028  1700859926.421               evening   \n",
       "1890  SMART_028       17      SMART_028  1701118174.071               evening   \n",
       "1891  SMART_028       18      SMART_028  1700769688.261               evening   \n",
       "1892  SMART_028       19      SMART_028  1701032287.874               evening   \n",
       "\n",
       "     imq1 imq2 imq3 imq4 imq5 imq6  kss kss_class arousal_class valence_class  \\\n",
       "0     4.0    3    5    3    5    4  2.0         0             1             1   \n",
       "1     3.0    4    6    3    6    5  2.0         0             1             2   \n",
       "2     2.0    3    4    2    2    4  3.0         0             0             1   \n",
       "3     5.0    3    6    3    5    6  2.0         0             1             1   \n",
       "4     3.0    4    5    3    5    4  2.0         0             1             2   \n",
       "...   ...  ...  ...  ...  ...  ...  ...       ...           ...           ...   \n",
       "1888  2.0    3    3    2    2    3  NaN         2             0             1   \n",
       "1889  3.0    3    3    2    3    3  NaN         2             1             1   \n",
       "1890  2.0    1    2    2    1    1  NaN         2             0             0   \n",
       "1891  2.0    4    4    2    3    4  NaN         2             0             1   \n",
       "1892  2.0    3    3    2    3    3  NaN         2             0             1   \n",
       "\n",
       "     arousal_level valence_level mood1 mood2 depression  \n",
       "0              3.5           4.0    58    61          1  \n",
       "1              3.0           5.0    70    66          1  \n",
       "2              2.0           2.5    63    57          1  \n",
       "3              4.0           4.0    82    60          1  \n",
       "4              3.0           4.5    60    67          1  \n",
       "...            ...           ...   ...   ...        ...  \n",
       "1888           2.0           2.5    49    43          0  \n",
       "1889           2.5           3.0    46    49          0  \n",
       "1890           2.0           1.0    20    25          0  \n",
       "1891           2.0           3.5    63    61          0  \n",
       "1892           2.0           3.0    30    34          0  \n",
       "\n",
       "[1893 rows x 20 columns]"
      ]
     },
     "execution_count": 9,
     "metadata": {},
     "output_type": "execute_result"
    }
   ],
   "source": [
    "data_all"
   ]
  },
  {
   "cell_type": "code",
   "execution_count": 5,
   "metadata": {},
   "outputs": [
    {
     "data": {
      "application/vnd.plotly.v1+json": {
       "config": {
        "plotlyServerURL": "https://plot.ly"
       },
       "data": [
        {
         "alignmentgroup": "True",
         "bingroup": "x",
         "hovertemplate": "depression=0<br>arousal_level=%{x}<br>count=%{y}<extra></extra>",
         "legendgroup": "0",
         "marker": {
          "color": "lightseagreen",
          "pattern": {
           "shape": ""
          }
         },
         "name": "0",
         "offsetgroup": "0",
         "orientation": "v",
         "showlegend": true,
         "type": "histogram",
         "x": [
          3.5,
          3,
          2,
          4,
          4.5,
          3.5,
          3.5,
          2,
          3,
          2.5,
          2,
          4,
          3.5,
          2.5,
          3.5,
          4,
          4.5,
          4,
          5,
          4.5,
          2.5,
          1,
          2,
          3.5,
          2.5,
          2.5,
          2.5,
          1.5,
          2.5,
          3,
          3,
          3.5,
          3,
          4,
          3,
          3,
          3.5,
          4,
          3.5,
          4,
          3,
          4,
          3,
          3.5,
          3.5,
          3,
          3.5,
          3,
          2.5,
          3,
          3.5,
          4.5,
          4,
          3,
          3,
          1.5,
          3,
          3,
          3.5,
          3,
          2.5,
          2,
          3,
          2.5,
          2.5,
          2,
          3,
          3,
          3,
          2.5,
          2,
          3,
          3,
          1.5,
          2,
          2,
          1.5,
          3,
          2.5,
          3.5,
          3,
          1.5,
          3,
          3.5,
          4.5,
          3,
          2.5,
          4,
          4,
          3,
          4,
          2.5,
          4.5,
          4,
          4,
          4.5,
          4.5,
          4,
          5,
          5,
          3,
          5,
          4,
          4.5,
          3,
          4,
          4,
          2.5,
          2,
          2,
          2,
          3,
          2,
          2.5,
          2,
          2,
          2,
          2,
          2,
          4,
          2,
          2,
          2.5,
          1.5,
          2,
          2.5,
          1,
          2.5,
          1.5,
          1,
          1.5,
          2,
          1.5,
          2.5,
          2,
          2,
          2,
          2.5,
          2,
          1.5,
          2.5,
          2,
          2,
          2,
          2,
          2,
          3,
          2,
          2.5,
          1.5,
          1.5,
          2,
          2.5,
          2,
          2,
          4,
          3,
          5,
          5.5,
          3.5,
          1,
          4,
          3,
          2.5,
          3,
          3.5,
          1.5,
          5.5,
          2.5,
          2.5,
          3.5,
          3,
          4.5,
          5,
          4,
          3.5,
          1.5,
          3.5,
          5.5,
          5,
          2.5,
          4.5,
          1,
          2.5,
          4,
          4.5,
          1,
          4,
          2.5,
          1.5,
          3.5,
          3.5,
          3,
          3,
          2,
          3.5,
          2,
          4.5,
          1,
          1.5,
          3.5,
          1.5,
          4,
          5,
          1.5,
          1.5,
          4.5,
          2.5,
          3,
          1.5,
          4,
          5,
          3.5,
          1.5,
          3.5,
          3.5,
          3,
          3.5,
          4,
          2.5,
          3.5,
          1.5,
          2.5,
          3.5,
          3,
          3,
          3.5,
          3,
          2,
          2.5,
          2,
          5,
          4,
          4.5,
          4,
          2.5,
          4,
          3,
          3,
          4.5,
          5,
          3,
          5.5,
          4.5,
          2,
          2.5,
          4.5,
          4.5,
          2,
          3,
          1.5,
          2,
          2,
          2.5,
          2,
          0.5,
          2,
          3.5,
          2,
          3.5,
          3,
          3,
          3,
          1.5,
          2.5,
          3,
          3.5,
          4.5,
          3.5,
          4.5,
          4,
          2.5,
          2.5,
          2.5,
          2,
          3.5,
          3.5,
          4,
          4.5,
          4.5,
          4,
          4.5,
          4,
          3,
          3,
          4,
          4.5,
          4,
          5.5,
          4.5,
          5,
          5.5,
          5.5,
          5.5,
          4,
          2,
          5.5,
          4.5,
          4,
          5.5,
          5,
          6,
          5.5,
          2.5,
          5.5,
          5.5,
          4.5,
          3,
          2.5,
          2.5,
          1,
          1,
          2,
          2,
          1,
          1,
          1,
          2,
          1,
          2,
          2,
          2,
          2,
          2,
          2,
          1,
          1.5,
          2.5,
          1,
          2,
          1,
          1,
          1.5,
          2,
          2.5,
          2.5,
          3,
          2.5,
          2.5,
          1.5,
          2,
          1.5,
          2.5,
          2,
          1.5,
          1.5,
          1,
          2,
          3,
          2.5,
          1.5,
          2.5,
          1,
          2.5,
          2.5,
          1.5,
          3.5,
          4,
          3.5,
          4,
          4,
          5,
          2.5,
          4,
          3.5,
          4,
          4,
          3.5,
          3.5,
          3,
          4,
          4,
          3.5,
          4.5,
          3.5,
          4,
          3,
          2,
          2,
          2.5,
          3,
          3,
          2.5,
          2,
          3,
          2.5,
          2,
          2,
          2,
          2,
          3,
          2.5,
          2.5,
          2,
          2.5,
          2.5,
          1.5,
          2,
          3.5,
          4,
          3,
          1.5,
          4,
          2.5,
          3.5,
          4.5,
          3,
          3,
          3.5,
          3,
          3,
          2.5,
          2.5,
          3,
          4,
          3,
          3,
          1.5,
          3.5,
          3,
          2.5,
          2.5,
          2,
          4,
          4.5,
          2.5,
          4,
          4.5,
          4,
          3.5,
          4.5,
          4.5,
          4.5,
          2.5,
          4,
          4,
          4.5,
          3.5,
          4.5,
          4.5,
          4.5,
          3.5,
          2,
          3,
          2.5,
          2,
          2.5,
          2.5,
          2.5,
          3,
          2,
          2.5,
          3,
          3.5,
          1.5,
          2.5,
          3,
          2.5,
          2.5,
          2.5,
          3,
          3,
          2,
          3,
          3,
          4,
          2,
          1,
          5,
          4.5,
          2.5,
          5,
          4,
          5.5,
          4.5,
          4.5,
          3,
          5,
          5,
          5,
          4.5,
          6,
          6,
          3.5,
          4.5,
          3.5,
          4.5,
          2,
          4,
          4,
          4.5,
          5,
          4,
          4.5,
          2.5,
          5,
          4.5,
          5,
          2,
          5,
          4.5,
          5.5,
          5,
          2,
          5.5,
          4.5,
          3,
          5,
          3,
          3.5,
          3,
          1.5,
          1.5,
          2,
          2,
          3,
          1.5,
          1.5,
          1.5,
          2,
          4,
          4,
          2.5,
          3,
          4,
          2.5,
          2.5,
          2.5,
          2,
          3,
          1,
          0,
          1,
          3,
          1,
          1.5,
          1.5,
          3,
          3,
          3,
          1.5,
          3,
          2,
          3,
          2.5,
          2
         ],
         "xaxis": "x",
         "yaxis": "y"
        },
        {
         "alignmentgroup": "True",
         "bingroup": "x",
         "hovertemplate": "depression=1<br>arousal_level=%{x}<br>count=%{y}<extra></extra>",
         "legendgroup": "1",
         "marker": {
          "color": "darkslategrey",
          "pattern": {
           "shape": ""
          }
         },
         "name": "1",
         "offsetgroup": "1",
         "orientation": "v",
         "showlegend": true,
         "type": "histogram",
         "x": [
          3,
          2.5,
          2,
          3.5,
          2,
          3,
          2.5,
          3.5,
          3,
          2.5,
          3,
          3.5,
          3.5,
          3,
          3,
          4.5,
          4,
          4,
          3.5,
          4.5,
          3.5,
          4,
          3,
          4,
          3,
          2.5,
          3.5,
          1,
          1.5,
          2.5,
          1.5,
          2,
          1,
          2,
          1,
          2.5,
          1.5,
          1,
          1.5,
          1,
          2.5,
          1.5,
          0.5,
          3,
          2.5,
          2,
          2.5,
          1.5,
          2.5,
          2,
          3,
          2,
          5.5,
          1.5,
          2,
          2,
          2.5,
          1.5,
          1,
          2,
          4,
          2.5,
          2,
          2.5,
          2.5,
          3.5,
          1.5,
          2.5,
          3,
          1,
          2.5,
          1,
          1,
          1,
          0,
          0.5,
          1,
          1,
          3,
          2,
          1.5,
          1,
          2,
          4,
          1,
          1.5,
          1.5,
          1.5,
          3,
          3.5,
          0.5,
          2.5,
          3,
          1.5,
          3,
          3,
          3,
          3,
          3,
          3,
          0.5,
          2,
          1.5,
          3,
          2,
          2.5,
          4,
          3.5,
          2,
          4,
          2.5,
          2.5,
          2.5,
          3,
          2,
          4,
          2,
          2.5,
          1.5,
          4.5,
          1.5,
          3.5,
          3,
          2,
          4.5,
          2.5,
          2.5,
          1,
          4.5,
          3,
          2,
          3,
          2.5,
          3.5,
          2,
          1.5,
          3,
          1,
          4.5,
          3,
          3,
          4,
          3.5,
          4,
          4.5,
          2.5,
          4.5,
          3,
          3.5,
          2.5,
          3,
          2.5,
          2,
          0.5,
          2,
          0.5,
          2,
          1,
          2,
          1,
          2,
          2,
          2,
          1.5,
          2,
          1.5,
          1.5,
          1.5,
          1.5,
          2,
          1.5,
          1.5,
          1,
          3,
          1.5,
          1,
          1,
          2,
          1.5,
          1,
          1.5,
          2,
          2,
          2.5,
          1.5,
          1,
          2.5,
          2.5,
          2,
          3,
          2,
          2,
          1.5,
          2,
          2,
          2,
          2.5,
          2,
          2,
          2,
          2.5,
          1.5,
          2,
          2,
          2,
          1,
          2,
          2,
          2,
          2,
          2.5,
          2,
          1.5,
          1.5,
          2.5,
          2,
          2,
          3,
          2,
          1,
          1.5,
          1.5,
          3,
          2.5,
          2,
          1.5,
          1.5,
          1,
          1.5,
          2,
          1,
          2,
          1.5,
          1.5,
          2.5,
          2,
          1.5,
          2,
          1.5,
          1.5,
          3,
          1.5,
          1,
          4,
          1,
          2.5,
          3,
          3.5,
          2,
          3.5,
          3,
          3,
          2.5,
          4.5,
          4.5,
          1,
          3,
          4,
          4,
          2,
          2.5,
          4.5,
          4,
          3.5,
          3,
          3.5,
          3.5,
          4,
          3.5,
          4.5,
          4.5,
          4,
          1,
          4,
          4.5,
          4,
          2.5,
          4.5,
          4.5,
          3.5,
          1,
          3.5,
          3,
          4,
          3,
          3,
          2.5,
          2,
          2.5,
          3.5,
          3,
          3,
          3.5,
          2.5,
          2.5,
          2.5,
          1,
          2.5,
          3,
          1.5,
          1.5,
          2,
          3.5,
          1.5,
          2,
          2,
          2,
          2,
          2,
          2.5,
          2.5,
          3,
          2,
          1.5,
          1.5,
          3,
          1,
          3,
          2,
          3,
          2,
          3,
          3,
          2.5,
          3.5,
          3,
          2.5,
          1.5,
          1.5,
          4.5,
          1,
          1,
          1.5,
          1.5,
          1,
          1.5,
          1,
          2.5,
          1.5,
          3,
          0.5,
          4,
          1.5,
          2,
          4,
          2,
          3,
          4,
          2.5,
          4.5,
          2,
          2,
          2,
          3.5,
          4.5,
          2.5,
          4.5,
          2,
          4.5,
          5.5,
          4.5,
          2,
          0.5,
          3.5,
          1.5,
          4,
          2,
          1.5,
          1,
          2.5,
          3.5,
          1.5,
          2,
          4,
          1.5,
          1,
          1,
          1,
          2,
          1,
          2,
          1.5,
          2,
          2,
          1.5,
          2,
          1,
          0.5,
          1,
          1.5,
          1.5,
          1.5,
          1.5,
          1,
          2,
          2,
          2.5,
          1.5,
          1.5,
          1,
          1.5,
          1.5,
          1.5,
          1.5,
          2,
          1.5,
          1.5,
          1.5,
          1,
          3,
          2.5,
          3,
          2,
          1,
          1,
          2.5,
          2,
          1.5,
          2,
          2.5,
          3,
          2.5,
          2.5,
          2.5,
          3,
          2,
          4,
          2,
          1.5,
          1.5,
          2,
          4,
          2,
          2,
          2,
          2.5,
          1.5,
          2,
          2,
          1.5,
          2,
          1.5,
          2.5,
          1,
          1.5,
          1.5,
          2,
          2.5,
          2,
          2,
          1.5,
          3.5,
          2.5,
          2.5,
          2,
          2.5,
          2.5,
          3,
          3,
          2,
          2.5,
          3,
          3.5,
          4,
          2.5,
          1.5,
          3.5,
          2.5,
          2,
          4.5,
          2.5,
          2,
          3.5,
          3,
          2,
          4,
          4,
          4,
          4.5,
          4,
          4,
          4,
          4.5,
          3.5,
          3.5,
          3.5,
          4.5,
          4.5,
          3.5,
          4.5,
          3.5,
          4,
          3.5,
          4,
          4,
          3.5,
          4,
          4,
          4,
          3.5,
          3.5,
          4.5,
          2.5,
          2,
          2.5,
          2.5,
          3,
          3,
          3,
          3.5,
          1.5,
          2.5,
          2.5,
          4.5,
          2,
          2.5,
          2,
          2.5,
          3,
          2.5,
          3,
          2,
          2.5,
          3.5,
          3,
          3,
          2.5,
          3.5,
          1,
          3,
          1.5,
          3,
          3,
          3,
          2,
          2.5,
          3,
          3,
          2,
          2,
          2,
          2.5,
          3,
          2.5,
          3,
          2.5,
          2.5,
          3.5,
          3,
          0.5,
          3,
          4.5,
          4,
          1.5,
          3,
          5,
          4.5,
          3.5,
          3,
          4,
          4,
          3.5,
          3.5,
          2.5,
          4.5,
          4,
          3,
          4,
          4,
          4,
          3,
          4.5,
          4,
          3.5,
          3,
          4,
          3.5,
          2,
          3.5,
          3.5,
          3.5,
          3,
          3,
          2.5,
          3,
          3,
          3.5,
          3,
          2,
          3.5,
          3,
          3,
          3,
          3,
          3.5,
          2.5,
          3,
          2.5
         ],
         "xaxis": "x",
         "yaxis": "y"
        }
       ],
       "layout": {
        "autosize": false,
        "barmode": "relative",
        "height": 500,
        "legend": {
         "title": {
          "text": "depression"
         },
         "tracegroupgap": 0
        },
        "margin": {
         "t": 60
        },
        "template": {
         "data": {
          "bar": [
           {
            "error_x": {
             "color": "#2a3f5f"
            },
            "error_y": {
             "color": "#2a3f5f"
            },
            "marker": {
             "line": {
              "color": "#E5ECF6",
              "width": 0.5
             },
             "pattern": {
              "fillmode": "overlay",
              "size": 10,
              "solidity": 0.2
             }
            },
            "type": "bar"
           }
          ],
          "barpolar": [
           {
            "marker": {
             "line": {
              "color": "#E5ECF6",
              "width": 0.5
             },
             "pattern": {
              "fillmode": "overlay",
              "size": 10,
              "solidity": 0.2
             }
            },
            "type": "barpolar"
           }
          ],
          "carpet": [
           {
            "aaxis": {
             "endlinecolor": "#2a3f5f",
             "gridcolor": "white",
             "linecolor": "white",
             "minorgridcolor": "white",
             "startlinecolor": "#2a3f5f"
            },
            "baxis": {
             "endlinecolor": "#2a3f5f",
             "gridcolor": "white",
             "linecolor": "white",
             "minorgridcolor": "white",
             "startlinecolor": "#2a3f5f"
            },
            "type": "carpet"
           }
          ],
          "choropleth": [
           {
            "colorbar": {
             "outlinewidth": 0,
             "ticks": ""
            },
            "type": "choropleth"
           }
          ],
          "contour": [
           {
            "colorbar": {
             "outlinewidth": 0,
             "ticks": ""
            },
            "colorscale": [
             [
              0,
              "#0d0887"
             ],
             [
              0.1111111111111111,
              "#46039f"
             ],
             [
              0.2222222222222222,
              "#7201a8"
             ],
             [
              0.3333333333333333,
              "#9c179e"
             ],
             [
              0.4444444444444444,
              "#bd3786"
             ],
             [
              0.5555555555555556,
              "#d8576b"
             ],
             [
              0.6666666666666666,
              "#ed7953"
             ],
             [
              0.7777777777777778,
              "#fb9f3a"
             ],
             [
              0.8888888888888888,
              "#fdca26"
             ],
             [
              1,
              "#f0f921"
             ]
            ],
            "type": "contour"
           }
          ],
          "contourcarpet": [
           {
            "colorbar": {
             "outlinewidth": 0,
             "ticks": ""
            },
            "type": "contourcarpet"
           }
          ],
          "heatmap": [
           {
            "colorbar": {
             "outlinewidth": 0,
             "ticks": ""
            },
            "colorscale": [
             [
              0,
              "#0d0887"
             ],
             [
              0.1111111111111111,
              "#46039f"
             ],
             [
              0.2222222222222222,
              "#7201a8"
             ],
             [
              0.3333333333333333,
              "#9c179e"
             ],
             [
              0.4444444444444444,
              "#bd3786"
             ],
             [
              0.5555555555555556,
              "#d8576b"
             ],
             [
              0.6666666666666666,
              "#ed7953"
             ],
             [
              0.7777777777777778,
              "#fb9f3a"
             ],
             [
              0.8888888888888888,
              "#fdca26"
             ],
             [
              1,
              "#f0f921"
             ]
            ],
            "type": "heatmap"
           }
          ],
          "heatmapgl": [
           {
            "colorbar": {
             "outlinewidth": 0,
             "ticks": ""
            },
            "colorscale": [
             [
              0,
              "#0d0887"
             ],
             [
              0.1111111111111111,
              "#46039f"
             ],
             [
              0.2222222222222222,
              "#7201a8"
             ],
             [
              0.3333333333333333,
              "#9c179e"
             ],
             [
              0.4444444444444444,
              "#bd3786"
             ],
             [
              0.5555555555555556,
              "#d8576b"
             ],
             [
              0.6666666666666666,
              "#ed7953"
             ],
             [
              0.7777777777777778,
              "#fb9f3a"
             ],
             [
              0.8888888888888888,
              "#fdca26"
             ],
             [
              1,
              "#f0f921"
             ]
            ],
            "type": "heatmapgl"
           }
          ],
          "histogram": [
           {
            "marker": {
             "pattern": {
              "fillmode": "overlay",
              "size": 10,
              "solidity": 0.2
             }
            },
            "type": "histogram"
           }
          ],
          "histogram2d": [
           {
            "colorbar": {
             "outlinewidth": 0,
             "ticks": ""
            },
            "colorscale": [
             [
              0,
              "#0d0887"
             ],
             [
              0.1111111111111111,
              "#46039f"
             ],
             [
              0.2222222222222222,
              "#7201a8"
             ],
             [
              0.3333333333333333,
              "#9c179e"
             ],
             [
              0.4444444444444444,
              "#bd3786"
             ],
             [
              0.5555555555555556,
              "#d8576b"
             ],
             [
              0.6666666666666666,
              "#ed7953"
             ],
             [
              0.7777777777777778,
              "#fb9f3a"
             ],
             [
              0.8888888888888888,
              "#fdca26"
             ],
             [
              1,
              "#f0f921"
             ]
            ],
            "type": "histogram2d"
           }
          ],
          "histogram2dcontour": [
           {
            "colorbar": {
             "outlinewidth": 0,
             "ticks": ""
            },
            "colorscale": [
             [
              0,
              "#0d0887"
             ],
             [
              0.1111111111111111,
              "#46039f"
             ],
             [
              0.2222222222222222,
              "#7201a8"
             ],
             [
              0.3333333333333333,
              "#9c179e"
             ],
             [
              0.4444444444444444,
              "#bd3786"
             ],
             [
              0.5555555555555556,
              "#d8576b"
             ],
             [
              0.6666666666666666,
              "#ed7953"
             ],
             [
              0.7777777777777778,
              "#fb9f3a"
             ],
             [
              0.8888888888888888,
              "#fdca26"
             ],
             [
              1,
              "#f0f921"
             ]
            ],
            "type": "histogram2dcontour"
           }
          ],
          "mesh3d": [
           {
            "colorbar": {
             "outlinewidth": 0,
             "ticks": ""
            },
            "type": "mesh3d"
           }
          ],
          "parcoords": [
           {
            "line": {
             "colorbar": {
              "outlinewidth": 0,
              "ticks": ""
             }
            },
            "type": "parcoords"
           }
          ],
          "pie": [
           {
            "automargin": true,
            "type": "pie"
           }
          ],
          "scatter": [
           {
            "fillpattern": {
             "fillmode": "overlay",
             "size": 10,
             "solidity": 0.2
            },
            "type": "scatter"
           }
          ],
          "scatter3d": [
           {
            "line": {
             "colorbar": {
              "outlinewidth": 0,
              "ticks": ""
             }
            },
            "marker": {
             "colorbar": {
              "outlinewidth": 0,
              "ticks": ""
             }
            },
            "type": "scatter3d"
           }
          ],
          "scattercarpet": [
           {
            "marker": {
             "colorbar": {
              "outlinewidth": 0,
              "ticks": ""
             }
            },
            "type": "scattercarpet"
           }
          ],
          "scattergeo": [
           {
            "marker": {
             "colorbar": {
              "outlinewidth": 0,
              "ticks": ""
             }
            },
            "type": "scattergeo"
           }
          ],
          "scattergl": [
           {
            "marker": {
             "colorbar": {
              "outlinewidth": 0,
              "ticks": ""
             }
            },
            "type": "scattergl"
           }
          ],
          "scattermapbox": [
           {
            "marker": {
             "colorbar": {
              "outlinewidth": 0,
              "ticks": ""
             }
            },
            "type": "scattermapbox"
           }
          ],
          "scatterpolar": [
           {
            "marker": {
             "colorbar": {
              "outlinewidth": 0,
              "ticks": ""
             }
            },
            "type": "scatterpolar"
           }
          ],
          "scatterpolargl": [
           {
            "marker": {
             "colorbar": {
              "outlinewidth": 0,
              "ticks": ""
             }
            },
            "type": "scatterpolargl"
           }
          ],
          "scatterternary": [
           {
            "marker": {
             "colorbar": {
              "outlinewidth": 0,
              "ticks": ""
             }
            },
            "type": "scatterternary"
           }
          ],
          "surface": [
           {
            "colorbar": {
             "outlinewidth": 0,
             "ticks": ""
            },
            "colorscale": [
             [
              0,
              "#0d0887"
             ],
             [
              0.1111111111111111,
              "#46039f"
             ],
             [
              0.2222222222222222,
              "#7201a8"
             ],
             [
              0.3333333333333333,
              "#9c179e"
             ],
             [
              0.4444444444444444,
              "#bd3786"
             ],
             [
              0.5555555555555556,
              "#d8576b"
             ],
             [
              0.6666666666666666,
              "#ed7953"
             ],
             [
              0.7777777777777778,
              "#fb9f3a"
             ],
             [
              0.8888888888888888,
              "#fdca26"
             ],
             [
              1,
              "#f0f921"
             ]
            ],
            "type": "surface"
           }
          ],
          "table": [
           {
            "cells": {
             "fill": {
              "color": "#EBF0F8"
             },
             "line": {
              "color": "white"
             }
            },
            "header": {
             "fill": {
              "color": "#C8D4E3"
             },
             "line": {
              "color": "white"
             }
            },
            "type": "table"
           }
          ]
         },
         "layout": {
          "annotationdefaults": {
           "arrowcolor": "#2a3f5f",
           "arrowhead": 0,
           "arrowwidth": 1
          },
          "autotypenumbers": "strict",
          "coloraxis": {
           "colorbar": {
            "outlinewidth": 0,
            "ticks": ""
           }
          },
          "colorscale": {
           "diverging": [
            [
             0,
             "#8e0152"
            ],
            [
             0.1,
             "#c51b7d"
            ],
            [
             0.2,
             "#de77ae"
            ],
            [
             0.3,
             "#f1b6da"
            ],
            [
             0.4,
             "#fde0ef"
            ],
            [
             0.5,
             "#f7f7f7"
            ],
            [
             0.6,
             "#e6f5d0"
            ],
            [
             0.7,
             "#b8e186"
            ],
            [
             0.8,
             "#7fbc41"
            ],
            [
             0.9,
             "#4d9221"
            ],
            [
             1,
             "#276419"
            ]
           ],
           "sequential": [
            [
             0,
             "#0d0887"
            ],
            [
             0.1111111111111111,
             "#46039f"
            ],
            [
             0.2222222222222222,
             "#7201a8"
            ],
            [
             0.3333333333333333,
             "#9c179e"
            ],
            [
             0.4444444444444444,
             "#bd3786"
            ],
            [
             0.5555555555555556,
             "#d8576b"
            ],
            [
             0.6666666666666666,
             "#ed7953"
            ],
            [
             0.7777777777777778,
             "#fb9f3a"
            ],
            [
             0.8888888888888888,
             "#fdca26"
            ],
            [
             1,
             "#f0f921"
            ]
           ],
           "sequentialminus": [
            [
             0,
             "#0d0887"
            ],
            [
             0.1111111111111111,
             "#46039f"
            ],
            [
             0.2222222222222222,
             "#7201a8"
            ],
            [
             0.3333333333333333,
             "#9c179e"
            ],
            [
             0.4444444444444444,
             "#bd3786"
            ],
            [
             0.5555555555555556,
             "#d8576b"
            ],
            [
             0.6666666666666666,
             "#ed7953"
            ],
            [
             0.7777777777777778,
             "#fb9f3a"
            ],
            [
             0.8888888888888888,
             "#fdca26"
            ],
            [
             1,
             "#f0f921"
            ]
           ]
          },
          "colorway": [
           "#636efa",
           "#EF553B",
           "#00cc96",
           "#ab63fa",
           "#FFA15A",
           "#19d3f3",
           "#FF6692",
           "#B6E880",
           "#FF97FF",
           "#FECB52"
          ],
          "font": {
           "color": "#2a3f5f"
          },
          "geo": {
           "bgcolor": "white",
           "lakecolor": "white",
           "landcolor": "#E5ECF6",
           "showlakes": true,
           "showland": true,
           "subunitcolor": "white"
          },
          "hoverlabel": {
           "align": "left"
          },
          "hovermode": "closest",
          "mapbox": {
           "style": "light"
          },
          "paper_bgcolor": "white",
          "plot_bgcolor": "#E5ECF6",
          "polar": {
           "angularaxis": {
            "gridcolor": "white",
            "linecolor": "white",
            "ticks": ""
           },
           "bgcolor": "#E5ECF6",
           "radialaxis": {
            "gridcolor": "white",
            "linecolor": "white",
            "ticks": ""
           }
          },
          "scene": {
           "xaxis": {
            "backgroundcolor": "#E5ECF6",
            "gridcolor": "white",
            "gridwidth": 2,
            "linecolor": "white",
            "showbackground": true,
            "ticks": "",
            "zerolinecolor": "white"
           },
           "yaxis": {
            "backgroundcolor": "#E5ECF6",
            "gridcolor": "white",
            "gridwidth": 2,
            "linecolor": "white",
            "showbackground": true,
            "ticks": "",
            "zerolinecolor": "white"
           },
           "zaxis": {
            "backgroundcolor": "#E5ECF6",
            "gridcolor": "white",
            "gridwidth": 2,
            "linecolor": "white",
            "showbackground": true,
            "ticks": "",
            "zerolinecolor": "white"
           }
          },
          "shapedefaults": {
           "line": {
            "color": "#2a3f5f"
           }
          },
          "ternary": {
           "aaxis": {
            "gridcolor": "white",
            "linecolor": "white",
            "ticks": ""
           },
           "baxis": {
            "gridcolor": "white",
            "linecolor": "white",
            "ticks": ""
           },
           "bgcolor": "#E5ECF6",
           "caxis": {
            "gridcolor": "white",
            "linecolor": "white",
            "ticks": ""
           }
          },
          "title": {
           "x": 0.05
          },
          "xaxis": {
           "automargin": true,
           "gridcolor": "white",
           "linecolor": "white",
           "ticks": "",
           "title": {
            "standoff": 15
           },
           "zerolinecolor": "white",
           "zerolinewidth": 2
          },
          "yaxis": {
           "automargin": true,
           "gridcolor": "white",
           "linecolor": "white",
           "ticks": "",
           "title": {
            "standoff": 15
           },
           "zerolinecolor": "white",
           "zerolinewidth": 2
          }
         }
        },
        "width": 500,
        "xaxis": {
         "anchor": "y",
         "domain": [
          0,
          1
         ],
         "title": {
          "text": "arousal_level"
         }
        },
        "yaxis": {
         "anchor": "x",
         "domain": [
          0,
          1
         ],
         "title": {
          "text": "count"
         }
        }
       }
      }
     },
     "metadata": {},
     "output_type": "display_data"
    }
   ],
   "source": [
    "# libraries & dataset\n",
    "import plotly.express as px\n",
    "fig = px.histogram(data_all, x=\"arousal_level\", color=\"depression\", color_discrete_map = {0:'lightseagreen',1:'darkslategrey'},labels={0:'healthy controls',1:'depression patients'})\n",
    "fig.update_layout(\n",
    "    autosize=False,\n",
    "    width=500,\n",
    "    height=500,)\n",
    "fig.show()"
   ]
  },
  {
   "cell_type": "markdown",
   "metadata": {},
   "source": [
    "### Morning vs Afternoon vs Evening"
   ]
  },
  {
   "cell_type": "code",
   "execution_count": null,
   "metadata": {},
   "outputs": [],
   "source": [
    "data_depressed = data_all[data_all.depression==1]\n",
    "# Create histogram plots using Plotly Express with 'barmode' set to 'group'\n",
    "fig = px.histogram(data_depressed, x=\"valence_level\", color=\"quest_type\", barmode='group',\n",
    "                   title=\"Distribution of Valence Level by Period of the Day\",\n",
    "                   nbins=12, histnorm=\"percent\")\n",
    "\n",
    "fig.update_layout(bargap=0.1)  # To adjust the gap between bars\n",
    "\n",
    "fig.show()"
   ]
  },
  {
   "cell_type": "code",
   "execution_count": null,
   "metadata": {},
   "outputs": [],
   "source": []
  },
  {
   "cell_type": "markdown",
   "metadata": {},
   "source": [
    "## Plot arousal level distribution "
   ]
  },
  {
   "cell_type": "code",
   "execution_count": null,
   "metadata": {},
   "outputs": [],
   "source": [
    "# Create histogram plots using Plotly Express with 'barmode' set to 'group'\n",
    "fig = px.histogram(data_all, x=\"arousal_level\", color=\"depression\", barmode='stack',\n",
    "                   title=\"Distribution of Arousal Level by Depression Status\",\n",
    "                   labels={'color': 'Depression (1/0)'},\n",
    "                   color_discrete_map={1: 'purple', 0: 'green'},\n",
    "                   nbins=12)\n",
    "\n",
    "fig.update_layout(bargap=0.1)  # To adjust the gap between bars\n",
    "\n",
    "fig.show()\n",
    "\n",
    "# Get unique participants\n",
    "unique_participants = data_all['Participant_ID'].unique()\n",
    "\n",
    "# Create a subplot grid\n",
    "num_rows = 6  # Number of rows in the grid\n",
    "num_cols = 4  # Number of columns in the grid\n",
    "\n",
    "fig = make_subplots(rows=num_rows, cols=num_cols,subplot_titles=unique_participants)\n",
    "\n",
    "row, col = 1, 1  # Initialize starting position\n",
    "\n",
    "for participant_id in unique_participants:\n",
    "    # Filter data for the participant\n",
    "    participant_data = data_all[data_all['Participant_ID'] == participant_id]\n",
    "\n",
    "    # Set the color based on depression status\n",
    "    color = 'purple' if participant_data['depression'].iloc[0] == 1 else 'green'\n",
    "\n",
    "    # Create a histogram for valence level with color based on depression status\n",
    "    fig.add_trace(go.Histogram(x=participant_data['arousal_level'], name=participant_id, marker_color=color), row=row, col=col)\n",
    "\n",
    "    # Update position in the subplot grid\n",
    "    col += 1\n",
    "    if col > num_cols:\n",
    "        col = 1\n",
    "        row += 1\n",
    "\n",
    "# Update layout\n",
    "fig.update_layout(height=900, width=1200, title='Arousal Level Histograms for Each Participant')\n",
    "fig.update_xaxes(title_text='Arousal Level')\n",
    "fig.update_yaxes(title_text='Frequency')\n",
    "\n",
    "fig.show()"
   ]
  },
  {
   "cell_type": "markdown",
   "metadata": {},
   "source": [
    "### Morning vs Afternoon vs Evening"
   ]
  },
  {
   "cell_type": "code",
   "execution_count": null,
   "metadata": {},
   "outputs": [],
   "source": [
    "data_depressed = data_all[data_all.depression==1]\n",
    "# Create histogram plots using Plotly Express with 'barmode' set to 'group'\n",
    "fig = px.histogram(data_depressed, x=\"arousal_level\", color=\"quest_type\", barmode='group',\n",
    "                   title=\"Distribution of Arousal Level by Period of the Day\",\n",
    "                   nbins=12, histnorm=\"percent\")\n",
    "\n",
    "fig.update_layout(bargap=0.1)  # To adjust the gap between bars\n",
    "\n",
    "fig.show()"
   ]
  },
  {
   "cell_type": "markdown",
   "metadata": {},
   "source": [
    "## Plot MOOD 1 level distribution "
   ]
  },
  {
   "cell_type": "code",
   "execution_count": null,
   "metadata": {},
   "outputs": [],
   "source": [
    "# Create histogram plots using Plotly Express with 'barmode' set to 'group'\n",
    "fig = px.histogram(data_all, x=\"mood1\", color=\"depression\", barmode='stack',\n",
    "                   title=\"Distribution of Mood 1 Level by Depression Status\",\n",
    "                   labels={'color': 'Depression (1/0)'},\n",
    "                   color_discrete_map={1: 'purple', 0: 'green'},\n",
    "                   nbins=12)\n",
    "\n",
    "fig.update_layout(bargap=0.1)  # To adjust the gap between bars\n",
    "\n",
    "fig.show()\n",
    "\n",
    "# Get unique participants\n",
    "unique_participants = data_all['Participant_ID'].unique()\n",
    "\n",
    "# Create a subplot grid\n",
    "num_rows = 6  # Number of rows in the grid\n",
    "num_cols = 4  # Number of columns in the grid\n",
    "\n",
    "fig = make_subplots(rows=num_rows, cols=num_cols,subplot_titles=unique_participants)\n",
    "\n",
    "row, col = 1, 1  # Initialize starting position\n",
    "\n",
    "for participant_id in unique_participants:\n",
    "    # Filter data for the participant\n",
    "    participant_data = data_all[data_all['Participant_ID'] == participant_id]\n",
    "\n",
    "    # Set the color based on depression status\n",
    "    color = 'purple' if participant_data['depression'].iloc[0] == 1 else 'green'\n",
    "\n",
    "    # Create a histogram for valence level with color based on depression status\n",
    "    fig.add_trace(go.Histogram(x=participant_data['mood1'], name=participant_id, marker_color=color), row=row, col=col)\n",
    "\n",
    "    # Update position in the subplot grid\n",
    "    col += 1\n",
    "    if col > num_cols:\n",
    "        col = 1\n",
    "        row += 1\n",
    "\n",
    "# Update layout\n",
    "fig.update_layout(height=900, width=1200, title='Mood1 Level Histograms for Each Participant')\n",
    "fig.update_xaxes(title_text='Mood 1 Level')\n",
    "fig.update_yaxes(title_text='Frequency')\n",
    "\n",
    "fig.show()"
   ]
  },
  {
   "cell_type": "code",
   "execution_count": null,
   "metadata": {},
   "outputs": [],
   "source": []
  },
  {
   "cell_type": "code",
   "execution_count": null,
   "metadata": {},
   "outputs": [],
   "source": []
  }
 ],
 "metadata": {
  "kernelspec": {
   "display_name": "Python 3",
   "language": "python",
   "name": "python3"
  },
  "language_info": {
   "codemirror_mode": {
    "name": "ipython",
    "version": 3
   },
   "file_extension": ".py",
   "mimetype": "text/x-python",
   "name": "python",
   "nbconvert_exporter": "python",
   "pygments_lexer": "ipython3",
   "version": "3.10.9"
  },
  "orig_nbformat": 4,
  "vscode": {
   "interpreter": {
    "hash": "aee8b7b246df8f9039afb4144a1f6fd8d2ca17a180786b69acc140d282b71a49"
   }
  }
 },
 "nbformat": 4,
 "nbformat_minor": 2
}
