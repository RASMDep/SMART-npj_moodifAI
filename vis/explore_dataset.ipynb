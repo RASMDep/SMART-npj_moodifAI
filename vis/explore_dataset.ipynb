{
 "cells": [
  {
   "cell_type": "code",
   "execution_count": null,
   "metadata": {},
   "outputs": [],
   "source": [
    "import numpy as np\n",
    "import os\n",
    "import pandas as pd\n",
    "\n",
    "data_dir = \"/Users/giulia/Desktop/SMART_derived_features/\"\n",
    "\n",
    "# Specify the path to the pickle file you want to read\n",
    "file_path = \"HRV_timeseries_24hour_clean_25percent.pkl\"  # Replace with the actual file path\n",
    "\n",
    "data = pd.read_pickle(os.path.join(data_dir,file_path))\n",
    "\n",
    "data_all = pd.DataFrame(data).transpose()\n",
    "data_all = data_all.reset_index()\n",
    "\n",
    "print(\"Dataset includes \" + str(len(data_all)) + \" data points\")\n",
    "print(\"from \" + str(len(data_all.Participant_ID.unique())) + \" unique participants\")\n",
    "print(\"of which \" + str(len(data_all[data_all.depression==1].Participant_ID.unique())) + \" have a depression diagnosis\")"
   ]
  },
  {
   "cell_type": "markdown",
   "metadata": {},
   "source": [
    "## Count of data entries for each participant\n",
    "\n",
    "This section generates a bar plot to show the count of data entries for each participant. The bars are color-coded based on the 'depression' status, while a horizontal line represents the median count of entries.\n"
   ]
  },
  {
   "cell_type": "code",
   "execution_count": null,
   "metadata": {},
   "outputs": [],
   "source": [
    "# visualize instogram with the number of labels for each participant\n",
    "import plotly.express as px\n",
    "\n",
    "# Grouping the DataFrame by 'Participant_ID' and counting the occurrences\n",
    "grouped_data = data_all.groupby('Participant_ID').size().reset_index(name='Count')\n",
    "\n",
    "# Merge Depression values with grouped data\n",
    "depression_values = data_all.groupby('Participant_ID')['depression'].first().reset_index()\n",
    "grouped_data = grouped_data.merge(depression_values, on='Participant_ID')\n",
    "\n",
    "# Calculate the average count of entries\n",
    "median_count = grouped_data['Count'].median()\n",
    "\n",
    "# Plotting using Plotly\n",
    "# Plotting using Plotly with specified colors\n",
    "fig = px.bar(grouped_data, x='Participant_ID', y='Count', color='depression', \n",
    "             title='Data Entry Count per Participant (Color by Depression), Total Entries: ' + str(len(data_all)),\n",
    "             labels={'color': 'Depression (1/0)'},\n",
    "             color_discrete_map={1: 'purple', 0: 'green'})  # Assign colors for 1 (Depressed) and 0 (Not depressed)\n",
    "fig.add_hline(y=median_count, line_dash=\"dot\", annotation_text=f'Median: {median_count:.2f}', annotation_position='bottom right')\n",
    "fig.update_layout(xaxis_title='Participant ID', yaxis_title='Data Entry Count')\n",
    "\n",
    "# Display the plot\n",
    "fig.show()"
   ]
  },
  {
   "cell_type": "markdown",
   "metadata": {},
   "source": [
    "## Plot the average HR for each participant"
   ]
  },
  {
   "cell_type": "code",
   "execution_count": null,
   "metadata": {},
   "outputs": [],
   "source": [
    "import plotly.graph_objects as go\n",
    "\n",
    "fig = go.Figure()\n",
    "\n",
    "def calculate_mean_curve(data):\n",
    "    filtered_data = data[data.apply(len) == 288]\n",
    "    return np.nanmean(np.vstack(filtered_data), axis=0)\n",
    "\n",
    "def moving_average(data, window_size):\n",
    "    cumsum = np.cumsum(data)\n",
    "    return (cumsum[window_size:] - cumsum[:-window_size]) / window_size\n",
    "\n",
    "unique_participants = data_all['Participant_ID'].unique()\n",
    "\n",
    "for participant_id in unique_participants:\n",
    "    participant_data = data_all[data_all['Participant_ID'] == participant_id]\n",
    "    mean_curve = calculate_mean_curve(participant_data['HR_Data'])\n",
    "    depression_status = participant_data['depression'].iloc[0]  # Assuming depression status is consistent for each participant\n",
    "    \n",
    "    color = 'purple' if depression_status == 1 else 'green'\n",
    "    \n",
    "    smoothed_curve = moving_average(mean_curve, 12)  # Applying moving average with window size 5\n",
    "    \n",
    "    fig.add_trace(go.Scatter(y=smoothed_curve, mode='lines', name=f'Participant {participant_id}', line=dict(color=color)))\n",
    "\n",
    "fig.update_layout(\n",
    "    title='Smoothed Average Heart Rate Curves for Participants by Depression Status',\n",
    "    xaxis_title='Time',\n",
    "    yaxis_title='Heart Rate'\n",
    ")\n",
    "\n",
    "fig.show()"
   ]
  },
  {
   "cell_type": "markdown",
   "metadata": {},
   "source": [
    "## Plot valence level distribution "
   ]
  },
  {
   "cell_type": "markdown",
   "metadata": {},
   "source": [
    "### Depressed vs Healthy"
   ]
  },
  {
   "cell_type": "code",
   "execution_count": null,
   "metadata": {},
   "outputs": [],
   "source": [
    "# Create histogram plots using Plotly Express with 'barmode' set to 'group'\n",
    "fig = px.histogram(data_all, x=\"valence_level\", color=\"depression\", barmode='stack',\n",
    "                   title=\"Distribution of Valence Level by Depression Status\",\n",
    "                   labels={'color': 'Depression (1/0)'},\n",
    "                   color_discrete_map={1: 'purple', 0: 'green'},\n",
    "                   nbins=12)\n",
    "\n",
    "fig.update_layout(bargap=0.1)  # To adjust the gap between bars\n",
    "\n",
    "fig.show()\n",
    "\n",
    "from plotly.subplots import make_subplots\n",
    "\n",
    "# Get unique participants\n",
    "unique_participants = data_all['Participant_ID'].unique()\n",
    "\n",
    "# Create a subplot grid\n",
    "num_rows = 6  # Number of rows in the grid\n",
    "num_cols = 4  # Number of columns in the grid\n",
    "\n",
    "fig = make_subplots(rows=num_rows, cols=num_cols,subplot_titles=unique_participants)\n",
    "\n",
    "row, col = 1, 1  # Initialize starting position\n",
    "\n",
    "for participant_id in unique_participants:\n",
    "    # Filter data for the participant\n",
    "    participant_data = data_all[data_all['Participant_ID'] == participant_id]\n",
    "\n",
    "    # Set the color based on depression status\n",
    "    color = 'purple' if participant_data['depression'].iloc[0] == 1 else 'green'\n",
    "\n",
    "    # Create a histogram for valence level with color based on depression status\n",
    "    fig.add_trace(go.Histogram(x=participant_data['valence_level'], name=participant_id, marker_color=color), row=row, col=col)\n",
    "\n",
    "    # Update position in the subplot grid\n",
    "    col += 1\n",
    "    if col > num_cols:\n",
    "        col = 1\n",
    "        row += 1\n",
    "\n",
    "# Update layout\n",
    "fig.update_layout(height=900, width=1200, title='Valence Level Histograms for Each Participant')\n",
    "fig.update_xaxes(title_text='Valence Level')\n",
    "fig.update_yaxes(title_text='Frequency')\n",
    "\n",
    "fig.show()"
   ]
  },
  {
   "cell_type": "markdown",
   "metadata": {},
   "source": [
    "### Morning vs Afternoon vs Evening"
   ]
  },
  {
   "cell_type": "code",
   "execution_count": null,
   "metadata": {},
   "outputs": [],
   "source": [
    "data_depressed = data_all[data_all.depression==1]\n",
    "# Create histogram plots using Plotly Express with 'barmode' set to 'group'\n",
    "fig = px.histogram(data_depressed, x=\"valence_level\", color=\"quest_type\", barmode='group',\n",
    "                   title=\"Distribution of Valence Level by Period of the Day\",\n",
    "                   nbins=12, histnorm=\"percent\")\n",
    "\n",
    "fig.update_layout(bargap=0.1)  # To adjust the gap between bars\n",
    "\n",
    "fig.show()"
   ]
  },
  {
   "cell_type": "code",
   "execution_count": null,
   "metadata": {},
   "outputs": [],
   "source": []
  },
  {
   "cell_type": "markdown",
   "metadata": {},
   "source": [
    "## Plot arousal level distribution "
   ]
  },
  {
   "cell_type": "code",
   "execution_count": null,
   "metadata": {},
   "outputs": [],
   "source": [
    "# Create histogram plots using Plotly Express with 'barmode' set to 'group'\n",
    "fig = px.histogram(data_all, x=\"arousal_level\", color=\"depression\", barmode='stack',\n",
    "                   title=\"Distribution of Arousal Level by Depression Status\",\n",
    "                   labels={'color': 'Depression (1/0)'},\n",
    "                   color_discrete_map={1: 'purple', 0: 'green'},\n",
    "                   nbins=12)\n",
    "\n",
    "fig.update_layout(bargap=0.1)  # To adjust the gap between bars\n",
    "\n",
    "fig.show()\n",
    "\n",
    "# Get unique participants\n",
    "unique_participants = data_all['Participant_ID'].unique()\n",
    "\n",
    "# Create a subplot grid\n",
    "num_rows = 6  # Number of rows in the grid\n",
    "num_cols = 4  # Number of columns in the grid\n",
    "\n",
    "fig = make_subplots(rows=num_rows, cols=num_cols,subplot_titles=unique_participants)\n",
    "\n",
    "row, col = 1, 1  # Initialize starting position\n",
    "\n",
    "for participant_id in unique_participants:\n",
    "    # Filter data for the participant\n",
    "    participant_data = data_all[data_all['Participant_ID'] == participant_id]\n",
    "\n",
    "    # Set the color based on depression status\n",
    "    color = 'purple' if participant_data['depression'].iloc[0] == 1 else 'green'\n",
    "\n",
    "    # Create a histogram for valence level with color based on depression status\n",
    "    fig.add_trace(go.Histogram(x=participant_data['arousal_level'], name=participant_id, marker_color=color), row=row, col=col)\n",
    "\n",
    "    # Update position in the subplot grid\n",
    "    col += 1\n",
    "    if col > num_cols:\n",
    "        col = 1\n",
    "        row += 1\n",
    "\n",
    "# Update layout\n",
    "fig.update_layout(height=900, width=1200, title='Arousal Level Histograms for Each Participant')\n",
    "fig.update_xaxes(title_text='Arousal Level')\n",
    "fig.update_yaxes(title_text='Frequency')\n",
    "\n",
    "fig.show()"
   ]
  },
  {
   "cell_type": "markdown",
   "metadata": {},
   "source": [
    "### Morning vs Afternoon vs Evening"
   ]
  },
  {
   "cell_type": "code",
   "execution_count": null,
   "metadata": {},
   "outputs": [],
   "source": [
    "data_depressed = data_all[data_all.depression==1]\n",
    "# Create histogram plots using Plotly Express with 'barmode' set to 'group'\n",
    "fig = px.histogram(data_depressed, x=\"arousal_level\", color=\"quest_type\", barmode='group',\n",
    "                   title=\"Distribution of Arousal Level by Period of the Day\",\n",
    "                   nbins=12, histnorm=\"percent\")\n",
    "\n",
    "fig.update_layout(bargap=0.1)  # To adjust the gap between bars\n",
    "\n",
    "fig.show()"
   ]
  },
  {
   "cell_type": "markdown",
   "metadata": {},
   "source": [
    "## Plot MOOD 1 level distribution "
   ]
  },
  {
   "cell_type": "code",
   "execution_count": null,
   "metadata": {},
   "outputs": [],
   "source": [
    "# Create histogram plots using Plotly Express with 'barmode' set to 'group'\n",
    "fig = px.histogram(data_all, x=\"mood1\", color=\"depression\", barmode='stack',\n",
    "                   title=\"Distribution of Mood 1 Level by Depression Status\",\n",
    "                   labels={'color': 'Depression (1/0)'},\n",
    "                   color_discrete_map={1: 'purple', 0: 'green'},\n",
    "                   nbins=12)\n",
    "\n",
    "fig.update_layout(bargap=0.1)  # To adjust the gap between bars\n",
    "\n",
    "fig.show()\n",
    "\n",
    "# Get unique participants\n",
    "unique_participants = data_all['Participant_ID'].unique()\n",
    "\n",
    "# Create a subplot grid\n",
    "num_rows = 6  # Number of rows in the grid\n",
    "num_cols = 4  # Number of columns in the grid\n",
    "\n",
    "fig = make_subplots(rows=num_rows, cols=num_cols,subplot_titles=unique_participants)\n",
    "\n",
    "row, col = 1, 1  # Initialize starting position\n",
    "\n",
    "for participant_id in unique_participants:\n",
    "    # Filter data for the participant\n",
    "    participant_data = data_all[data_all['Participant_ID'] == participant_id]\n",
    "\n",
    "    # Set the color based on depression status\n",
    "    color = 'purple' if participant_data['depression'].iloc[0] == 1 else 'green'\n",
    "\n",
    "    # Create a histogram for valence level with color based on depression status\n",
    "    fig.add_trace(go.Histogram(x=participant_data['mood1'], name=participant_id, marker_color=color), row=row, col=col)\n",
    "\n",
    "    # Update position in the subplot grid\n",
    "    col += 1\n",
    "    if col > num_cols:\n",
    "        col = 1\n",
    "        row += 1\n",
    "\n",
    "# Update layout\n",
    "fig.update_layout(height=900, width=1200, title='Mood1 Level Histograms for Each Participant')\n",
    "fig.update_xaxes(title_text='Mood 1 Level')\n",
    "fig.update_yaxes(title_text='Frequency')\n",
    "\n",
    "fig.show()"
   ]
  },
  {
   "cell_type": "code",
   "execution_count": null,
   "metadata": {},
   "outputs": [],
   "source": []
  },
  {
   "cell_type": "code",
   "execution_count": null,
   "metadata": {},
   "outputs": [],
   "source": []
  }
 ],
 "metadata": {
  "kernelspec": {
   "display_name": "Python 3",
   "language": "python",
   "name": "python3"
  },
  "language_info": {
   "codemirror_mode": {
    "name": "ipython",
    "version": 3
   },
   "file_extension": ".py",
   "mimetype": "text/x-python",
   "name": "python",
   "nbconvert_exporter": "python",
   "pygments_lexer": "ipython3",
   "version": "3.11.3"
  },
  "orig_nbformat": 4
 },
 "nbformat": 4,
 "nbformat_minor": 2
}
